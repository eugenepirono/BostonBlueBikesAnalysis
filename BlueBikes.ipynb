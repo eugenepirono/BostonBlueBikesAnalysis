{
 "cells": [
  {
   "cell_type": "code",
   "execution_count": 27,
   "metadata": {},
   "outputs": [],
   "source": [
    "import numpy as np\n",
    "import pandas as pd\n",
    "import matplotlib.pyplot as plt\n",
    "import seaborn as sns\n",
    "\n"
   ]
  },
  {
   "cell_type": "code",
   "execution_count": 11,
   "metadata": {},
   "outputs": [
    {
     "data": {
      "text/plain": [
       "(7840, 15)"
      ]
     },
     "execution_count": 11,
     "metadata": {},
     "output_type": "execute_result"
    }
   ],
   "source": [
    "df = pd.read_csv('201501-hubway-tripdata.csv')\n",
    "df.shape\n"
   ]
  },
  {
   "cell_type": "code",
   "execution_count": 12,
   "metadata": {},
   "outputs": [
    {
     "data": {
      "text/plain": [
       "Index(['tripduration', 'starttime', 'stoptime', 'start station id',\n",
       "       'start station name', 'start station latitude',\n",
       "       'start station longitude', 'end station id', 'end station name',\n",
       "       'end station latitude', 'end station longitude', 'bikeid', 'usertype',\n",
       "       'birth year', 'gender'],\n",
       "      dtype='object')"
      ]
     },
     "execution_count": 12,
     "metadata": {},
     "output_type": "execute_result"
    }
   ],
   "source": [
    "df.columns"
   ]
  },
  {
   "cell_type": "code",
   "execution_count": 13,
   "metadata": {},
   "outputs": [
    {
     "name": "stdout",
     "output_type": "stream",
     "text": [
      "<class 'pandas.core.frame.DataFrame'>\n",
      "RangeIndex: 7840 entries, 0 to 7839\n",
      "Data columns (total 15 columns):\n",
      " #   Column                   Non-Null Count  Dtype  \n",
      "---  ------                   --------------  -----  \n",
      " 0   tripduration             7840 non-null   int64  \n",
      " 1   starttime                7840 non-null   object \n",
      " 2   stoptime                 7840 non-null   object \n",
      " 3   start station id         7840 non-null   int64  \n",
      " 4   start station name       7840 non-null   object \n",
      " 5   start station latitude   7840 non-null   float64\n",
      " 6   start station longitude  7840 non-null   float64\n",
      " 7   end station id           7840 non-null   int64  \n",
      " 8   end station name         7840 non-null   object \n",
      " 9   end station latitude     7840 non-null   float64\n",
      " 10  end station longitude    7840 non-null   float64\n",
      " 11  bikeid                   7840 non-null   int64  \n",
      " 12  usertype                 7840 non-null   object \n",
      " 13  birth year               7840 non-null   object \n",
      " 14  gender                   7840 non-null   int64  \n",
      "dtypes: float64(4), int64(5), object(6)\n",
      "memory usage: 918.9+ KB\n"
     ]
    }
   ],
   "source": [
    "df.info()"
   ]
  },
  {
   "cell_type": "code",
   "execution_count": 15,
   "metadata": {},
   "outputs": [
    {
     "data": {
      "text/html": [
       "<div>\n",
       "<style scoped>\n",
       "    .dataframe tbody tr th:only-of-type {\n",
       "        vertical-align: middle;\n",
       "    }\n",
       "\n",
       "    .dataframe tbody tr th {\n",
       "        vertical-align: top;\n",
       "    }\n",
       "\n",
       "    .dataframe thead th {\n",
       "        text-align: right;\n",
       "    }\n",
       "</style>\n",
       "<table border=\"1\" class=\"dataframe\">\n",
       "  <thead>\n",
       "    <tr style=\"text-align: right;\">\n",
       "      <th></th>\n",
       "      <th>tripduration</th>\n",
       "      <th>start station id</th>\n",
       "      <th>start station latitude</th>\n",
       "      <th>start station longitude</th>\n",
       "      <th>end station id</th>\n",
       "      <th>end station latitude</th>\n",
       "      <th>end station longitude</th>\n",
       "      <th>bikeid</th>\n",
       "      <th>gender</th>\n",
       "    </tr>\n",
       "  </thead>\n",
       "  <tbody>\n",
       "    <tr>\n",
       "      <th>count</th>\n",
       "      <td>7840.00</td>\n",
       "      <td>7840.00</td>\n",
       "      <td>7840.00</td>\n",
       "      <td>7840.00</td>\n",
       "      <td>7840.00</td>\n",
       "      <td>7840.00</td>\n",
       "      <td>7840.00</td>\n",
       "      <td>7840.00</td>\n",
       "      <td>7840.00</td>\n",
       "    </tr>\n",
       "    <tr>\n",
       "      <th>mean</th>\n",
       "      <td>647.88</td>\n",
       "      <td>91.93</td>\n",
       "      <td>42.37</td>\n",
       "      <td>-71.10</td>\n",
       "      <td>90.99</td>\n",
       "      <td>42.37</td>\n",
       "      <td>-71.10</td>\n",
       "      <td>932.27</td>\n",
       "      <td>1.21</td>\n",
       "    </tr>\n",
       "    <tr>\n",
       "      <th>std</th>\n",
       "      <td>3998.55</td>\n",
       "      <td>19.30</td>\n",
       "      <td>0.01</td>\n",
       "      <td>0.01</td>\n",
       "      <td>20.58</td>\n",
       "      <td>0.01</td>\n",
       "      <td>0.01</td>\n",
       "      <td>216.46</td>\n",
       "      <td>0.48</td>\n",
       "    </tr>\n",
       "    <tr>\n",
       "      <th>min</th>\n",
       "      <td>62.00</td>\n",
       "      <td>67.00</td>\n",
       "      <td>42.36</td>\n",
       "      <td>-71.14</td>\n",
       "      <td>1.00</td>\n",
       "      <td>42.33</td>\n",
       "      <td>-71.14</td>\n",
       "      <td>23.00</td>\n",
       "      <td>0.00</td>\n",
       "    </tr>\n",
       "    <tr>\n",
       "      <th>25%</th>\n",
       "      <td>287.00</td>\n",
       "      <td>75.00</td>\n",
       "      <td>42.36</td>\n",
       "      <td>-71.11</td>\n",
       "      <td>74.00</td>\n",
       "      <td>42.36</td>\n",
       "      <td>-71.11</td>\n",
       "      <td>748.00</td>\n",
       "      <td>1.00</td>\n",
       "    </tr>\n",
       "    <tr>\n",
       "      <th>50%</th>\n",
       "      <td>406.00</td>\n",
       "      <td>89.50</td>\n",
       "      <td>42.37</td>\n",
       "      <td>-71.10</td>\n",
       "      <td>89.00</td>\n",
       "      <td>42.37</td>\n",
       "      <td>-71.10</td>\n",
       "      <td>894.00</td>\n",
       "      <td>1.00</td>\n",
       "    </tr>\n",
       "    <tr>\n",
       "      <th>75%</th>\n",
       "      <td>602.00</td>\n",
       "      <td>107.00</td>\n",
       "      <td>42.37</td>\n",
       "      <td>-71.09</td>\n",
       "      <td>107.00</td>\n",
       "      <td>42.37</td>\n",
       "      <td>-71.09</td>\n",
       "      <td>1090.00</td>\n",
       "      <td>1.00</td>\n",
       "    </tr>\n",
       "    <tr>\n",
       "      <th>max</th>\n",
       "      <td>232319.00</td>\n",
       "      <td>145.00</td>\n",
       "      <td>42.40</td>\n",
       "      <td>-71.07</td>\n",
       "      <td>149.00</td>\n",
       "      <td>42.40</td>\n",
       "      <td>-71.05</td>\n",
       "      <td>1325.00</td>\n",
       "      <td>2.00</td>\n",
       "    </tr>\n",
       "  </tbody>\n",
       "</table>\n",
       "</div>"
      ],
      "text/plain": [
       "       tripduration  start station id  start station latitude  \\\n",
       "count       7840.00           7840.00                 7840.00   \n",
       "mean         647.88             91.93                   42.37   \n",
       "std         3998.55             19.30                    0.01   \n",
       "min           62.00             67.00                   42.36   \n",
       "25%          287.00             75.00                   42.36   \n",
       "50%          406.00             89.50                   42.37   \n",
       "75%          602.00            107.00                   42.37   \n",
       "max       232319.00            145.00                   42.40   \n",
       "\n",
       "       start station longitude  end station id  end station latitude  \\\n",
       "count                  7840.00         7840.00               7840.00   \n",
       "mean                    -71.10           90.99                 42.37   \n",
       "std                       0.01           20.58                  0.01   \n",
       "min                     -71.14            1.00                 42.33   \n",
       "25%                     -71.11           74.00                 42.36   \n",
       "50%                     -71.10           89.00                 42.37   \n",
       "75%                     -71.09          107.00                 42.37   \n",
       "max                     -71.07          149.00                 42.40   \n",
       "\n",
       "       end station longitude   bikeid   gender  \n",
       "count                7840.00  7840.00  7840.00  \n",
       "mean                  -71.10   932.27     1.21  \n",
       "std                     0.01   216.46     0.48  \n",
       "min                   -71.14    23.00     0.00  \n",
       "25%                   -71.11   748.00     1.00  \n",
       "50%                   -71.10   894.00     1.00  \n",
       "75%                   -71.09  1090.00     1.00  \n",
       "max                   -71.05  1325.00     2.00  "
      ]
     },
     "execution_count": 15,
     "metadata": {},
     "output_type": "execute_result"
    }
   ],
   "source": [
    "df.describe().round(2)"
   ]
  },
  {
   "cell_type": "code",
   "execution_count": 19,
   "metadata": {},
   "outputs": [
    {
     "data": {
      "text/html": [
       "<div>\n",
       "<style scoped>\n",
       "    .dataframe tbody tr th:only-of-type {\n",
       "        vertical-align: middle;\n",
       "    }\n",
       "\n",
       "    .dataframe tbody tr th {\n",
       "        vertical-align: top;\n",
       "    }\n",
       "\n",
       "    .dataframe thead th {\n",
       "        text-align: right;\n",
       "    }\n",
       "</style>\n",
       "<table border=\"1\" class=\"dataframe\">\n",
       "  <thead>\n",
       "    <tr style=\"text-align: right;\">\n",
       "      <th></th>\n",
       "      <th>tripduration</th>\n",
       "      <th>starttime</th>\n",
       "      <th>stoptime</th>\n",
       "      <th>start station id</th>\n",
       "      <th>start station name</th>\n",
       "      <th>start station latitude</th>\n",
       "      <th>start station longitude</th>\n",
       "      <th>end station id</th>\n",
       "      <th>end station name</th>\n",
       "      <th>end station latitude</th>\n",
       "      <th>end station longitude</th>\n",
       "      <th>bikeid</th>\n",
       "      <th>usertype</th>\n",
       "      <th>birth year</th>\n",
       "      <th>gender</th>\n",
       "    </tr>\n",
       "  </thead>\n",
       "  <tbody>\n",
       "    <tr>\n",
       "      <th>0</th>\n",
       "      <td>542</td>\n",
       "      <td>2015-01-01 00:21:44</td>\n",
       "      <td>2015-01-01 00:30:47</td>\n",
       "      <td>115</td>\n",
       "      <td>Porter Square Station</td>\n",
       "      <td>42.387995</td>\n",
       "      <td>-71.119084</td>\n",
       "      <td>96</td>\n",
       "      <td>Cambridge Main Library at Broadway / Trowbridg...</td>\n",
       "      <td>42.373379</td>\n",
       "      <td>-71.111075</td>\n",
       "      <td>277</td>\n",
       "      <td>Subscriber</td>\n",
       "      <td>1984</td>\n",
       "      <td>1</td>\n",
       "    </tr>\n",
       "    <tr>\n",
       "      <th>1</th>\n",
       "      <td>438</td>\n",
       "      <td>2015-01-01 00:27:03</td>\n",
       "      <td>2015-01-01 00:34:21</td>\n",
       "      <td>80</td>\n",
       "      <td>MIT Stata Center at Vassar St / Main St</td>\n",
       "      <td>42.361962</td>\n",
       "      <td>-71.092053</td>\n",
       "      <td>95</td>\n",
       "      <td>Cambridge St - at Columbia St / Webster Ave</td>\n",
       "      <td>42.372969</td>\n",
       "      <td>-71.094445</td>\n",
       "      <td>648</td>\n",
       "      <td>Subscriber</td>\n",
       "      <td>1985</td>\n",
       "      <td>1</td>\n",
       "    </tr>\n",
       "    <tr>\n",
       "      <th>2</th>\n",
       "      <td>254</td>\n",
       "      <td>2015-01-01 00:31:31</td>\n",
       "      <td>2015-01-01 00:35:46</td>\n",
       "      <td>91</td>\n",
       "      <td>One Kendall Square at Hampshire St / Portland St</td>\n",
       "      <td>42.366277</td>\n",
       "      <td>-71.091690</td>\n",
       "      <td>68</td>\n",
       "      <td>Central Square at Mass Ave / Essex St</td>\n",
       "      <td>42.365070</td>\n",
       "      <td>-71.103100</td>\n",
       "      <td>555</td>\n",
       "      <td>Subscriber</td>\n",
       "      <td>1974</td>\n",
       "      <td>1</td>\n",
       "    </tr>\n",
       "    <tr>\n",
       "      <th>3</th>\n",
       "      <td>432</td>\n",
       "      <td>2015-01-01 00:53:46</td>\n",
       "      <td>2015-01-01 01:00:58</td>\n",
       "      <td>115</td>\n",
       "      <td>Porter Square Station</td>\n",
       "      <td>42.387995</td>\n",
       "      <td>-71.119084</td>\n",
       "      <td>96</td>\n",
       "      <td>Cambridge Main Library at Broadway / Trowbridg...</td>\n",
       "      <td>42.373379</td>\n",
       "      <td>-71.111075</td>\n",
       "      <td>1307</td>\n",
       "      <td>Subscriber</td>\n",
       "      <td>1987</td>\n",
       "      <td>1</td>\n",
       "    </tr>\n",
       "    <tr>\n",
       "      <th>4</th>\n",
       "      <td>735</td>\n",
       "      <td>2015-01-01 01:07:06</td>\n",
       "      <td>2015-01-01 01:19:21</td>\n",
       "      <td>105</td>\n",
       "      <td>Lower Cambridgeport at Magazine St/Riverside Rd</td>\n",
       "      <td>42.356954</td>\n",
       "      <td>-71.113687</td>\n",
       "      <td>88</td>\n",
       "      <td>Inman Square at Vellucci Plaza / Hampshire St</td>\n",
       "      <td>42.374035</td>\n",
       "      <td>-71.101427</td>\n",
       "      <td>177</td>\n",
       "      <td>Customer</td>\n",
       "      <td>1986</td>\n",
       "      <td>2</td>\n",
       "    </tr>\n",
       "    <tr>\n",
       "      <th>...</th>\n",
       "      <td>...</td>\n",
       "      <td>...</td>\n",
       "      <td>...</td>\n",
       "      <td>...</td>\n",
       "      <td>...</td>\n",
       "      <td>...</td>\n",
       "      <td>...</td>\n",
       "      <td>...</td>\n",
       "      <td>...</td>\n",
       "      <td>...</td>\n",
       "      <td>...</td>\n",
       "      <td>...</td>\n",
       "      <td>...</td>\n",
       "      <td>...</td>\n",
       "      <td>...</td>\n",
       "    </tr>\n",
       "    <tr>\n",
       "      <th>7835</th>\n",
       "      <td>823</td>\n",
       "      <td>2015-01-31 22:20:49</td>\n",
       "      <td>2015-01-31 22:34:33</td>\n",
       "      <td>88</td>\n",
       "      <td>Inman Square at Vellucci Plaza / Hampshire St</td>\n",
       "      <td>42.374035</td>\n",
       "      <td>-71.101427</td>\n",
       "      <td>87</td>\n",
       "      <td>Harvard University Housing - 115 Putnam Ave at...</td>\n",
       "      <td>42.366621</td>\n",
       "      <td>-71.114214</td>\n",
       "      <td>1118</td>\n",
       "      <td>Subscriber</td>\n",
       "      <td>1992</td>\n",
       "      <td>1</td>\n",
       "    </tr>\n",
       "    <tr>\n",
       "      <th>7836</th>\n",
       "      <td>721</td>\n",
       "      <td>2015-01-31 22:34:32</td>\n",
       "      <td>2015-01-31 22:46:33</td>\n",
       "      <td>73</td>\n",
       "      <td>Harvard Square at Brattle St / Eliot St</td>\n",
       "      <td>42.373231</td>\n",
       "      <td>-71.120886</td>\n",
       "      <td>87</td>\n",
       "      <td>Harvard University Housing - 115 Putnam Ave at...</td>\n",
       "      <td>42.366621</td>\n",
       "      <td>-71.114214</td>\n",
       "      <td>1005</td>\n",
       "      <td>Customer</td>\n",
       "      <td>1984</td>\n",
       "      <td>1</td>\n",
       "    </tr>\n",
       "    <tr>\n",
       "      <th>7837</th>\n",
       "      <td>567</td>\n",
       "      <td>2015-01-31 22:36:34</td>\n",
       "      <td>2015-01-31 22:46:01</td>\n",
       "      <td>145</td>\n",
       "      <td>Rindge Avenue - O'Neill Library</td>\n",
       "      <td>42.392766</td>\n",
       "      <td>-71.129042</td>\n",
       "      <td>74</td>\n",
       "      <td>Harvard Square at Mass Ave/ Dunster</td>\n",
       "      <td>42.373268</td>\n",
       "      <td>-71.118579</td>\n",
       "      <td>854</td>\n",
       "      <td>Subscriber</td>\n",
       "      <td>1962</td>\n",
       "      <td>1</td>\n",
       "    </tr>\n",
       "    <tr>\n",
       "      <th>7838</th>\n",
       "      <td>197</td>\n",
       "      <td>2015-01-31 22:59:23</td>\n",
       "      <td>2015-01-31 23:02:41</td>\n",
       "      <td>70</td>\n",
       "      <td>Harvard Kennedy School at Bennett St / Eliot St</td>\n",
       "      <td>42.371196</td>\n",
       "      <td>-71.121473</td>\n",
       "      <td>97</td>\n",
       "      <td>Harvard University River Houses at DeWolfe St ...</td>\n",
       "      <td>42.369190</td>\n",
       "      <td>-71.117141</td>\n",
       "      <td>718</td>\n",
       "      <td>Subscriber</td>\n",
       "      <td>1982</td>\n",
       "      <td>1</td>\n",
       "    </tr>\n",
       "    <tr>\n",
       "      <th>7839</th>\n",
       "      <td>369</td>\n",
       "      <td>2015-01-31 23:21:57</td>\n",
       "      <td>2015-01-31 23:28:06</td>\n",
       "      <td>68</td>\n",
       "      <td>Central Square at Mass Ave / Essex St</td>\n",
       "      <td>42.365070</td>\n",
       "      <td>-71.103100</td>\n",
       "      <td>91</td>\n",
       "      <td>One Kendall Square at Hampshire St / Portland St</td>\n",
       "      <td>42.366277</td>\n",
       "      <td>-71.091690</td>\n",
       "      <td>1011</td>\n",
       "      <td>Subscriber</td>\n",
       "      <td>1989</td>\n",
       "      <td>1</td>\n",
       "    </tr>\n",
       "  </tbody>\n",
       "</table>\n",
       "<p>7840 rows × 15 columns</p>\n",
       "</div>"
      ],
      "text/plain": [
       "      tripduration           starttime            stoptime  start station id  \\\n",
       "0              542 2015-01-01 00:21:44 2015-01-01 00:30:47               115   \n",
       "1              438 2015-01-01 00:27:03 2015-01-01 00:34:21                80   \n",
       "2              254 2015-01-01 00:31:31 2015-01-01 00:35:46                91   \n",
       "3              432 2015-01-01 00:53:46 2015-01-01 01:00:58               115   \n",
       "4              735 2015-01-01 01:07:06 2015-01-01 01:19:21               105   \n",
       "...            ...                 ...                 ...               ...   \n",
       "7835           823 2015-01-31 22:20:49 2015-01-31 22:34:33                88   \n",
       "7836           721 2015-01-31 22:34:32 2015-01-31 22:46:33                73   \n",
       "7837           567 2015-01-31 22:36:34 2015-01-31 22:46:01               145   \n",
       "7838           197 2015-01-31 22:59:23 2015-01-31 23:02:41                70   \n",
       "7839           369 2015-01-31 23:21:57 2015-01-31 23:28:06                68   \n",
       "\n",
       "                                    start station name  \\\n",
       "0                                Porter Square Station   \n",
       "1              MIT Stata Center at Vassar St / Main St   \n",
       "2     One Kendall Square at Hampshire St / Portland St   \n",
       "3                                Porter Square Station   \n",
       "4      Lower Cambridgeport at Magazine St/Riverside Rd   \n",
       "...                                                ...   \n",
       "7835     Inman Square at Vellucci Plaza / Hampshire St   \n",
       "7836           Harvard Square at Brattle St / Eliot St   \n",
       "7837                   Rindge Avenue - O'Neill Library   \n",
       "7838   Harvard Kennedy School at Bennett St / Eliot St   \n",
       "7839             Central Square at Mass Ave / Essex St   \n",
       "\n",
       "      start station latitude  start station longitude  end station id  \\\n",
       "0                  42.387995               -71.119084              96   \n",
       "1                  42.361962               -71.092053              95   \n",
       "2                  42.366277               -71.091690              68   \n",
       "3                  42.387995               -71.119084              96   \n",
       "4                  42.356954               -71.113687              88   \n",
       "...                      ...                      ...             ...   \n",
       "7835               42.374035               -71.101427              87   \n",
       "7836               42.373231               -71.120886              87   \n",
       "7837               42.392766               -71.129042              74   \n",
       "7838               42.371196               -71.121473              97   \n",
       "7839               42.365070               -71.103100              91   \n",
       "\n",
       "                                       end station name  end station latitude  \\\n",
       "0     Cambridge Main Library at Broadway / Trowbridg...             42.373379   \n",
       "1           Cambridge St - at Columbia St / Webster Ave             42.372969   \n",
       "2                 Central Square at Mass Ave / Essex St             42.365070   \n",
       "3     Cambridge Main Library at Broadway / Trowbridg...             42.373379   \n",
       "4         Inman Square at Vellucci Plaza / Hampshire St             42.374035   \n",
       "...                                                 ...                   ...   \n",
       "7835  Harvard University Housing - 115 Putnam Ave at...             42.366621   \n",
       "7836  Harvard University Housing - 115 Putnam Ave at...             42.366621   \n",
       "7837                Harvard Square at Mass Ave/ Dunster             42.373268   \n",
       "7838  Harvard University River Houses at DeWolfe St ...             42.369190   \n",
       "7839   One Kendall Square at Hampshire St / Portland St             42.366277   \n",
       "\n",
       "      end station longitude  bikeid    usertype birth year  gender  \n",
       "0                -71.111075     277  Subscriber       1984       1  \n",
       "1                -71.094445     648  Subscriber       1985       1  \n",
       "2                -71.103100     555  Subscriber       1974       1  \n",
       "3                -71.111075    1307  Subscriber       1987       1  \n",
       "4                -71.101427     177    Customer       1986       2  \n",
       "...                     ...     ...         ...        ...     ...  \n",
       "7835             -71.114214    1118  Subscriber       1992       1  \n",
       "7836             -71.114214    1005    Customer       1984       1  \n",
       "7837             -71.118579     854  Subscriber       1962       1  \n",
       "7838             -71.117141     718  Subscriber       1982       1  \n",
       "7839             -71.091690    1011  Subscriber       1989       1  \n",
       "\n",
       "[7840 rows x 15 columns]"
      ]
     },
     "execution_count": 19,
     "metadata": {},
     "output_type": "execute_result"
    }
   ],
   "source": [
    "# Convert the start and end time columns from object to to timestamp:\n",
    "df['starttime'] = pd.to_datetime(df['starttime'])\n",
    "df['stoptime'] = pd.to_datetime(df['stoptime'])\n",
    "df"
   ]
  },
  {
   "cell_type": "code",
   "execution_count": 23,
   "metadata": {},
   "outputs": [
    {
     "data": {
      "text/plain": [
       "['start station name', 'end station name', 'bikeid', 'usertype', 'gender']"
      ]
     },
     "execution_count": 23,
     "metadata": {},
     "output_type": "execute_result"
    }
   ],
   "source": [
    "cols = ['start station name', 'end station name', 'bikeid', 'usertype', 'gender']\n",
    "for col in cols:\n",
    "    df[col] = df[col].astype('category')\n",
    "    \n",
    "cols"
   ]
  },
  {
   "cell_type": "code",
   "execution_count": 28,
   "metadata": {},
   "outputs": [
    {
     "data": {
      "image/png": "[encoded data removed]",
      "text/plain": [
       "<Figure size 720x360 with 1 Axes>"
      ]
     },
     "metadata": {
      "needs_background": "light"
     },
     "output_type": "display_data"
    }
   ],
   "source": [
    "df['tripminutes'] = df['tripduration'] //60\n",
    "sns.displot(data=df,x=\"tripminutes\", bins=range(1,61), aspect=10/5);"
   ]
  },
  {
   "cell_type": "code",
   "execution_count": 29,
   "metadata": {},
   "outputs": [],
   "source": [
    "df['start hour']=df['starttime'].dt.hour.astype('category')\n",
    "df['start day']=df['starttime'].dt.day.astype('category') \n",
    "df['weekday']=df['starttime'].dt.weekday.astype('category')"
   ]
  },
  {
   "cell_type": "code",
   "execution_count": 31,
   "metadata": {},
   "outputs": [
    {
     "data": {
      "text/plain": [
       "<AxesSubplot:xlabel='start hour', ylabel='count'>"
      ]
     },
     "execution_count": 31,
     "metadata": {},
     "output_type": "execute_result"
    },
    {
     "data": {
      "image/png": "[encoded data removed]",
      "text/plain": [
       "<Figure size 864x360 with 1 Axes>"
      ]
     },
     "metadata": {
      "needs_background": "light"
     },
     "output_type": "display_data"
    }
   ],
   "source": [
    "plt.figure(figsize=(12,5))\n",
    "sns.countplot(data=df, x=\"start hour\" )"
   ]
  },
  {
   "cell_type": "code",
   "execution_count": 40,
   "metadata": {},
   "outputs": [
    {
     "data": {
      "text/plain": [
       "<AxesSubplot:xlabel='start day', ylabel='count'>"
      ]
     },
     "execution_count": 40,
     "metadata": {},
     "output_type": "execute_result"
    },
    {
     "data": {
      "image/png": "[encoded data removed]",
      "text/plain": [
       "<Figure size 864x432 with 1 Axes>"
      ]
     },
     "metadata": {
      "needs_background": "light"
     },
     "output_type": "display_data"
    }
   ],
   "source": [
    "df['weekend'] = [d >= 5 for d in df['weekday'] ] # 0=monday\n",
    "plt.figure(figsize=(12,6))\n",
    "sns.set_palette(\"Set2\")\n",
    "sns.countplot(data=df,x=\"start day\", hue='weekend', dodge=False)"
   ]
  },
  {
   "cell_type": "code",
   "execution_count": 45,
   "metadata": {},
   "outputs": [],
   "source": [
    "def regression_parameters(x, y):\n",
    "    sd_x = np.std(x)\n",
    "    mean_x = np.mean(x)\n",
    "    sd_y = np.std(y)\n",
    "    mean_y = np.mean(y)\n",
    "    slope = sd_y / sd_x\n",
    "    intercept = mean_y - slope * mean_x\n",
    "    return make_array(slope, intercept)\n",
    "\n",
    "\n",
    "\n"
   ]
  }
 ],
 "metadata": {
  "interpreter": {
   "hash": "89fd3fe5c74926aecd829cf91c6519be9ed1b8293aef6b3339f7512c2622eea6"
  },
  "kernelspec": {
   "display_name": "Python 3.8.5 64-bit ('base': conda)",
   "language": "python",
   "name": "python3"
  },
  "language_info": {
   "codemirror_mode": {
    "name": "ipython",
    "version": 3
   },
   "file_extension": ".py",
   "mimetype": "text/x-python",
   "name": "python",
   "nbconvert_exporter": "python",
   "pygments_lexer": "ipython3",
   "version": "3.8.5"
  },
  "orig_nbformat": 4
 },
 "nbformat": 4,
 "nbformat_minor": 2
}
